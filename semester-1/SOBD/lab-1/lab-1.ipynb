{
 "cells": [
  {
   "cell_type": "markdown",
   "id": "5131a3ed-1100-47b6-9fb0-39dfcd028add",
   "metadata": {
    "tags": []
   },
   "source": [
    "# Лабораторная работа №1\n",
    "Выполнил студент гр. САПР-1.4: Дешевов П.П.\n",
    "### Цель и задачи: \n",
    "- Познакомиться с понятием «большие данные» и способами их обработки;\n",
    "- Познакомиться с инструментом Apache Spark и возможностями, которые он предоставляет для обработки больших данных.\n",
    "- Получить навыки выполнения разведочного анализа данных использованием pyspark."
   ]
  },
  {
   "cell_type": "markdown",
   "id": "5d43b79d-1ed5-439f-ad30-f8266e4dd9c2",
   "metadata": {},
   "source": [
    "Инициализируем необходимые для работы библиотеки"
   ]
  },
  {
   "cell_type": "code",
   "execution_count": 1,
   "id": "7d2e595e-8bde-4955-8d8c-3184e82443cd",
   "metadata": {
    "tags": []
   },
   "outputs": [],
   "source": [
    "import os\n",
    "import sys\n",
    "import pandas as pd\n",
    "from pandas import DataFrame\n",
    "import numpy as np\n",
    "import matplotlib.pyplot as plt\n",
    "import matplotlib.ticker as mtick\n",
    "import matplotlib\n",
    "from mpl_toolkits.mplot3d import Axes3D\n",
    "import math\n",
    "from IPython.core.interactiveshell import InteractiveShell\n",
    "from datetime import *\n",
    "import statistics as stats\n",
    "# This helps auto print out the items without explixitly using 'print'\n",
    "InteractiveShell.ast_node_interactivity = \"all\" \n",
    "%matplotlib inline"
   ]
  },
  {
   "cell_type": "code",
   "execution_count": 2,
   "id": "1b96ec49-b295-4698-961f-43c7b12954cc",
   "metadata": {
    "tags": []
   },
   "outputs": [],
   "source": [
    "import pyspark\n",
    "from pyspark.rdd import RDD\n",
    "from pyspark.sql import Row\n",
    "from pyspark.sql import DataFrame\n",
    "from pyspark.sql import SparkSession\n",
    "from pyspark.sql import SQLContext\n",
    "from pyspark.sql import functions\n",
    "from pyspark.sql.functions import lit, desc, col, size, array_contains\\\n",
    ", isnan, udf, hour, array_min, array_max, countDistinct, when\n",
    "from pyspark.sql.types import *"
   ]
  },
  {
   "cell_type": "markdown",
   "id": "e6b20d39-78ae-4b42-a442-d04121bb667c",
   "metadata": {},
   "source": [
    "Инициализируем сессию PySpark и загружаем data set"
   ]
  },
  {
   "cell_type": "code",
   "execution_count": 3,
   "id": "0a7dc4d6-4071-405b-bdf8-170eed285d9f",
   "metadata": {
    "tags": []
   },
   "outputs": [
    {
     "name": "stdout",
     "output_type": "stream",
     "text": [
      "Data frame type: <class 'pyspark.sql.dataframe.DataFrame'>\n"
     ]
    }
   ],
   "source": [
    "MAX_MEMORY = '1G'\n",
    "# Initialize a spark session.\n",
    "conf = pyspark.SparkConf().setMaster(\"local[*]\") \\\n",
    "        .set('spark.executor.heartbeatInterval', 10000) \\\n",
    "        .set('spark.network.timeout', 10000) \\\n",
    "        .set(\"spark.core.connection.ack.wait.timeout\", \"3600\") \\\n",
    "        .set(\"spark.executor.memory\", MAX_MEMORY) \\\n",
    "        .set(\"spark.driver.memory\", MAX_MEMORY)\n",
    "def init_spark():\n",
    "    spark = SparkSession \\\n",
    "        .builder \\\n",
    "        .appName(\"Pyspark guide\") \\\n",
    "        .config(conf=conf) \\\n",
    "        .getOrCreate()\n",
    "    return spark\n",
    "\n",
    "spark = init_spark()\n",
    "filename_data = 'data/financial_fraud_detection.csv'\n",
    "# Load the main data set into pyspark data frame \n",
    "df = spark.read \\\n",
    "        .option(\"header\", True) \\\n",
    "        .option(\"inferSchema\", 'True') \\\n",
    "        .option(\"delimiter\", \",\") \\\n",
    "        .csv(filename_data, mode=\"DROPMALFORMED\")\n",
    "print('Data frame type: ' + str(type(df)))\n",
    "df = df.withColumn(\"isFraud\", df.isFraud.cast(\"boolean\"))\n",
    "df = df.withColumn(\"isFlaggedFraud\", df.isFlaggedFraud.cast(\"boolean\"))"
   ]
  },
  {
   "cell_type": "markdown",
   "id": "2d81310a-a436-48df-9dc5-9cc36150a728",
   "metadata": {},
   "source": [
    "Анализ типов признаков в data set"
   ]
  },
  {
   "cell_type": "code",
   "execution_count": 4,
   "id": "1b9316e7-5eb2-4aec-bf6f-8b7ba70e1326",
   "metadata": {
    "tags": []
   },
   "outputs": [
    {
     "name": "stdout",
     "output_type": "stream",
     "text": [
      "Data overview\n",
      "root\n",
      " |-- step: integer (nullable = true)\n",
      " |-- type: string (nullable = true)\n",
      " |-- amount: double (nullable = true)\n",
      " |-- nameOrig: string (nullable = true)\n",
      " |-- oldbalanceOrg: double (nullable = true)\n",
      " |-- newbalanceOrig: double (nullable = true)\n",
      " |-- nameDest: string (nullable = true)\n",
      " |-- oldbalanceDest: double (nullable = true)\n",
      " |-- newbalanceDest: double (nullable = true)\n",
      " |-- isFraud: boolean (nullable = true)\n",
      " |-- isFlaggedFraud: boolean (nullable = true)\n",
      "\n",
      "Columns overview\n"
     ]
    },
    {
     "data": {
      "text/html": [
       "<div>\n",
       "<style scoped>\n",
       "    .dataframe tbody tr th:only-of-type {\n",
       "        vertical-align: middle;\n",
       "    }\n",
       "\n",
       "    .dataframe tbody tr th {\n",
       "        vertical-align: top;\n",
       "    }\n",
       "\n",
       "    .dataframe thead th {\n",
       "        text-align: right;\n",
       "    }\n",
       "</style>\n",
       "<table border=\"1\" class=\"dataframe\">\n",
       "  <thead>\n",
       "    <tr style=\"text-align: right;\">\n",
       "      <th></th>\n",
       "      <th>Column Name</th>\n",
       "      <th>Data type</th>\n",
       "    </tr>\n",
       "  </thead>\n",
       "  <tbody>\n",
       "    <tr>\n",
       "      <th>0</th>\n",
       "      <td>step</td>\n",
       "      <td>int</td>\n",
       "    </tr>\n",
       "    <tr>\n",
       "      <th>1</th>\n",
       "      <td>type</td>\n",
       "      <td>string</td>\n",
       "    </tr>\n",
       "    <tr>\n",
       "      <th>2</th>\n",
       "      <td>amount</td>\n",
       "      <td>double</td>\n",
       "    </tr>\n",
       "    <tr>\n",
       "      <th>3</th>\n",
       "      <td>nameOrig</td>\n",
       "      <td>string</td>\n",
       "    </tr>\n",
       "    <tr>\n",
       "      <th>4</th>\n",
       "      <td>oldbalanceOrg</td>\n",
       "      <td>double</td>\n",
       "    </tr>\n",
       "    <tr>\n",
       "      <th>5</th>\n",
       "      <td>newbalanceOrig</td>\n",
       "      <td>double</td>\n",
       "    </tr>\n",
       "    <tr>\n",
       "      <th>6</th>\n",
       "      <td>nameDest</td>\n",
       "      <td>string</td>\n",
       "    </tr>\n",
       "    <tr>\n",
       "      <th>7</th>\n",
       "      <td>oldbalanceDest</td>\n",
       "      <td>double</td>\n",
       "    </tr>\n",
       "    <tr>\n",
       "      <th>8</th>\n",
       "      <td>newbalanceDest</td>\n",
       "      <td>double</td>\n",
       "    </tr>\n",
       "    <tr>\n",
       "      <th>9</th>\n",
       "      <td>isFraud</td>\n",
       "      <td>boolean</td>\n",
       "    </tr>\n",
       "    <tr>\n",
       "      <th>10</th>\n",
       "      <td>isFlaggedFraud</td>\n",
       "      <td>boolean</td>\n",
       "    </tr>\n",
       "  </tbody>\n",
       "</table>\n",
       "</div>"
      ],
      "text/plain": [
       "       Column Name Data type\n",
       "0             step       int\n",
       "1             type    string\n",
       "2           amount    double\n",
       "3         nameOrig    string\n",
       "4    oldbalanceOrg    double\n",
       "5   newbalanceOrig    double\n",
       "6         nameDest    string\n",
       "7   oldbalanceDest    double\n",
       "8   newbalanceDest    double\n",
       "9          isFraud   boolean\n",
       "10  isFlaggedFraud   boolean"
      ]
     },
     "execution_count": 4,
     "metadata": {},
     "output_type": "execute_result"
    }
   ],
   "source": [
    "print('Data overview')\n",
    "df.printSchema()\n",
    "print('Columns overview')\n",
    "pd.DataFrame(df.dtypes, columns = ['Column Name','Data type'])"
   ]
  },
  {
   "cell_type": "markdown",
   "id": "1c5f63b3-43c1-4196-b1ea-bb5a6d3333c4",
   "metadata": {},
   "source": [
    "В дата сете нету пропущенных значений"
   ]
  },
  {
   "cell_type": "markdown",
   "id": "93e75e87-2eb7-447c-9825-139c37b762e3",
   "metadata": {},
   "source": [
    "Так как работа ведется на дата сете финансовых операций, то его отчистка от выбросов является некорректной"
   ]
  },
  {
   "cell_type": "markdown",
   "id": "2de69b52-b544-4dd9-9704-6b797b74135f",
   "metadata": {},
   "source": [
    "Статистические показатели признаков"
   ]
  },
  {
   "cell_type": "code",
   "execution_count": 5,
   "id": "3cea8faa-b6c9-4a8b-a97b-6a665ea0eadf",
   "metadata": {
    "tags": []
   },
   "outputs": [
    {
     "name": "stdout",
     "output_type": "stream",
     "text": [
      "Data frame describe (string and numeric columns only):\n"
     ]
    },
    {
     "data": {
      "text/html": [
       "<div>\n",
       "<style scoped>\n",
       "    .dataframe tbody tr th:only-of-type {\n",
       "        vertical-align: middle;\n",
       "    }\n",
       "\n",
       "    .dataframe tbody tr th {\n",
       "        vertical-align: top;\n",
       "    }\n",
       "\n",
       "    .dataframe thead th {\n",
       "        text-align: right;\n",
       "    }\n",
       "</style>\n",
       "<table border=\"1\" class=\"dataframe\">\n",
       "  <thead>\n",
       "    <tr style=\"text-align: right;\">\n",
       "      <th></th>\n",
       "      <th>summary</th>\n",
       "      <th>step</th>\n",
       "      <th>type</th>\n",
       "      <th>amount</th>\n",
       "      <th>nameOrig</th>\n",
       "      <th>oldbalanceOrg</th>\n",
       "      <th>newbalanceOrig</th>\n",
       "      <th>nameDest</th>\n",
       "      <th>oldbalanceDest</th>\n",
       "      <th>newbalanceDest</th>\n",
       "    </tr>\n",
       "  </thead>\n",
       "  <tbody>\n",
       "    <tr>\n",
       "      <th>0</th>\n",
       "      <td>count</td>\n",
       "      <td>6362620</td>\n",
       "      <td>6362620</td>\n",
       "      <td>6362620</td>\n",
       "      <td>6362620</td>\n",
       "      <td>6362620</td>\n",
       "      <td>6362620</td>\n",
       "      <td>6362620</td>\n",
       "      <td>6362620</td>\n",
       "      <td>6362620</td>\n",
       "    </tr>\n",
       "    <tr>\n",
       "      <th>1</th>\n",
       "      <td>mean</td>\n",
       "      <td>243.39724563151657</td>\n",
       "      <td>None</td>\n",
       "      <td>179861.9035491322</td>\n",
       "      <td>None</td>\n",
       "      <td>833883.1040744863</td>\n",
       "      <td>855113.6685785893</td>\n",
       "      <td>None</td>\n",
       "      <td>1100701.6665196433</td>\n",
       "      <td>1224996.3982019275</td>\n",
       "    </tr>\n",
       "    <tr>\n",
       "      <th>2</th>\n",
       "      <td>stddev</td>\n",
       "      <td>142.33197104913054</td>\n",
       "      <td>None</td>\n",
       "      <td>603858.2314629358</td>\n",
       "      <td>None</td>\n",
       "      <td>2888242.673037555</td>\n",
       "      <td>2924048.502954259</td>\n",
       "      <td>None</td>\n",
       "      <td>3399180.1129944846</td>\n",
       "      <td>3674128.942119643</td>\n",
       "    </tr>\n",
       "    <tr>\n",
       "      <th>3</th>\n",
       "      <td>min</td>\n",
       "      <td>1</td>\n",
       "      <td>CASH_IN</td>\n",
       "      <td>0.0</td>\n",
       "      <td>C1000000639</td>\n",
       "      <td>0.0</td>\n",
       "      <td>0.0</td>\n",
       "      <td>C1000004082</td>\n",
       "      <td>0.0</td>\n",
       "      <td>0.0</td>\n",
       "    </tr>\n",
       "    <tr>\n",
       "      <th>4</th>\n",
       "      <td>max</td>\n",
       "      <td>743</td>\n",
       "      <td>TRANSFER</td>\n",
       "      <td>9.244551664E7</td>\n",
       "      <td>C999999784</td>\n",
       "      <td>5.958504037E7</td>\n",
       "      <td>4.958504037E7</td>\n",
       "      <td>M999999784</td>\n",
       "      <td>3.5601588935E8</td>\n",
       "      <td>3.5617927892E8</td>\n",
       "    </tr>\n",
       "  </tbody>\n",
       "</table>\n",
       "</div>"
      ],
      "text/plain": [
       "  summary                step      type             amount     nameOrig  \\\n",
       "0   count             6362620   6362620            6362620      6362620   \n",
       "1    mean  243.39724563151657      None  179861.9035491322         None   \n",
       "2  stddev  142.33197104913054      None  603858.2314629358         None   \n",
       "3     min                   1   CASH_IN                0.0  C1000000639   \n",
       "4     max                 743  TRANSFER      9.244551664E7   C999999784   \n",
       "\n",
       "       oldbalanceOrg     newbalanceOrig     nameDest      oldbalanceDest  \\\n",
       "0            6362620            6362620      6362620             6362620   \n",
       "1  833883.1040744863  855113.6685785893         None  1100701.6665196433   \n",
       "2  2888242.673037555  2924048.502954259         None  3399180.1129944846   \n",
       "3                0.0                0.0  C1000004082                 0.0   \n",
       "4      5.958504037E7      4.958504037E7   M999999784      3.5601588935E8   \n",
       "\n",
       "       newbalanceDest  \n",
       "0             6362620  \n",
       "1  1224996.3982019275  \n",
       "2   3674128.942119643  \n",
       "3                 0.0  \n",
       "4      3.5617927892E8  "
      ]
     },
     "execution_count": 5,
     "metadata": {},
     "output_type": "execute_result"
    }
   ],
   "source": [
    "print('Data frame describe (string and numeric columns only):')\n",
    "df.describe().toPandas()"
   ]
  },
  {
   "cell_type": "markdown",
   "id": "24a46747-39c2-4bc9-a052-707cebb0932e",
   "metadata": {
    "tags": []
   },
   "source": [
    "Визуализация распределения наиболее важных признаков"
   ]
  },
  {
   "cell_type": "code",
   "execution_count": 6,
   "id": "659b4e39-5259-4fdb-b725-647cbc288ed8",
   "metadata": {
    "tags": []
   },
   "outputs": [
    {
     "name": "stdout",
     "output_type": "stream",
     "text": [
      "Fraud operations count =  8213\n",
      "Legal operations count =  6354407\n"
     ]
    },
    {
     "data": {
      "text/plain": [
       "([<matplotlib.patches.Wedge at 0x7f9338eb83d0>,\n",
       "  <matplotlib.patches.Wedge at 0x7f9338ddd9f0>],\n",
       " [Text(1.0999909553139726, 0.004460742926250505, 'fraud'),\n",
       "  Text(-1.0999909550023677, -0.004460819765390592, 'legal')])"
      ]
     },
     "execution_count": 6,
     "metadata": {},
     "output_type": "execute_result"
    },
    {
     "data": {
      "image/png": "[encoded data removed]",
      "text/plain": [
       "<Figure size 640x480 with 1 Axes>"
      ]
     },
     "metadata": {},
     "output_type": "display_data"
    }
   ],
   "source": [
    "# find fraud operations df\n",
    "fraud_df = df.filter(df.isFraud == True)\n",
    "print(\"Fraud operations count = \", fraud_df.count())\n",
    "\n",
    "# find not fraud operation df\n",
    "legal_df = df.filter(df.isFraud == False)\n",
    "print(\"Legal operations count = \", legal_df.count())\n",
    "\n",
    "fig, axs = plt.subplots()\n",
    "axs.pie(x=[fraud_df.count(), legal_df.count()], labels=[\"fraud\", \"legal\"])"
   ]
  },
  {
   "cell_type": "markdown",
   "id": "d348e529-21f8-4057-94c2-58d1ec215644",
   "metadata": {},
   "source": [
    "Из диаграммы видно, что большая часть финансовых операций явялются легальными"
   ]
  },
  {
   "cell_type": "code",
   "execution_count": 7,
   "id": "94d651e5-52ac-417c-ab96-0b1dc3ef656e",
   "metadata": {
    "tags": []
   },
   "outputs": [
    {
     "data": {
      "text/plain": [
       "<BarContainer object of 50 artists>"
      ]
     },
     "execution_count": 7,
     "metadata": {},
     "output_type": "execute_result"
    },
    {
     "data": {
      "text/plain": [
       "Text(0.5, 1.0, 'All amounts hist')"
      ]
     },
     "execution_count": 7,
     "metadata": {},
     "output_type": "execute_result"
    },
    {
     "data": {
      "text/plain": [
       "<BarContainer object of 50 artists>"
      ]
     },
     "execution_count": 7,
     "metadata": {},
     "output_type": "execute_result"
    },
    {
     "data": {
      "text/plain": [
       "Text(0.5, 1.0, 'Fraud amounts hist')"
      ]
     },
     "execution_count": 7,
     "metadata": {},
     "output_type": "execute_result"
    },
    {
     "data": {
      "text/plain": [
       "<BarContainer object of 50 artists>"
      ]
     },
     "execution_count": 7,
     "metadata": {},
     "output_type": "execute_result"
    },
    {
     "data": {
      "text/plain": [
       "Text(0.5, 1.0, 'Legal amount hist')"
      ]
     },
     "execution_count": 7,
     "metadata": {},
     "output_type": "execute_result"
    },
    {
     "data": {
      "image/png": "[encoded data removed]",
      "text/plain": [
       "<Figure size 640x480 with 1 Axes>"
      ]
     },
     "metadata": {},
     "output_type": "display_data"
    },
    {
     "data": {
      "image/png": "[encoded data removed]",
      "text/plain": [
       "<Figure size 640x480 with 1 Axes>"
      ]
     },
     "metadata": {},
     "output_type": "display_data"
    },
    {
     "data": {
      "image/png": "[encoded data removed]",
      "text/plain": [
       "<Figure size 640x480 with 1 Axes>"
      ]
     },
     "metadata": {},
     "output_type": "display_data"
    }
   ],
   "source": [
    "all_bins, all_counts = df.select('amount').rdd.flatMap(lambda x: x).histogram(50)\n",
    "fraud_bins, fraud_counts = fraud_df.select('amount').rdd.flatMap(lambda x: x).histogram(50)\n",
    "legal_bins, legal_counts = legal_df.select('amount').rdd.flatMap(lambda x: x).histogram(50)\n",
    "\n",
    "f1, a1 = plt.subplots()\n",
    "a1.bar(x=all_bins[1:len(all_bins)], height=all_counts, width=3000000, label='all amount')\n",
    "a1.set_title(\"All amounts hist\")\n",
    "\n",
    "f2, a2 = plt.subplots()\n",
    "a2.bar(x=fraud_bins[1:len(fraud_bins)], height=fraud_counts, width=300000, label='fraud amount')\n",
    "a2.set_title(\"Fraud amounts hist\")\n",
    "\n",
    "f3, a3 = plt.subplots()\n",
    "a3.bar(x=legal_bins[1:len(legal_bins)], height=legal_counts, width=3000000, label='legal amount')\n",
    "a3.set_title(\"Legal amount hist\")"
   ]
  },
  {
   "cell_type": "markdown",
   "id": "1857d590-440a-4dbb-8e6e-110283d000ce",
   "metadata": {
    "tags": []
   },
   "source": [
    "Из вышепреденных выше гистрограм следует, что большая часть финансовых операций - операции с малым объемом средств. Причем, это не зависит от того является ли операция легальной или нелегальной \n"
   ]
  },
  {
   "cell_type": "code",
   "execution_count": 8,
   "id": "add2eb90-7910-4b2a-aed5-56cc691818ed",
   "metadata": {
    "tags": []
   },
   "outputs": [
    {
     "data": {
      "image/png": "[encoded data removed]",
      "text/plain": [
       "<Figure size 640x480 with 1 Axes>"
      ]
     },
     "metadata": {},
     "output_type": "display_data"
    },
    {
     "data": {
      "image/png": "[encoded data removed]",
      "text/plain": [
       "<Figure size 640x480 with 1 Axes>"
      ]
     },
     "metadata": {},
     "output_type": "display_data"
    },
    {
     "data": {
      "image/png": "[encoded data removed]",
      "text/plain": [
       "<Figure size 640x480 with 1 Axes>"
      ]
     },
     "metadata": {},
     "output_type": "display_data"
    }
   ],
   "source": [
    "def separateByOperations(df, pie_title):\n",
    "    operation_df = df.select(df.type).groupBy('type').count()\n",
    "    operation_types = operation_df.select('type').toPandas()['type']\n",
    "    operation_count = operation_df.select('count').toPandas()['count']\n",
    "    fig, ax = plt.subplots()\n",
    "    ax.pie(x=operation_count, labels=operation_types)\n",
    "    ax.set_title(pie_title)\n",
    "\n",
    "\n",
    "separateByOperations(df, 'Group by operation type - all')\n",
    "separateByOperations(fraud_df, 'Group by operation type - fraud')\n",
    "separateByOperations(legal_df, 'Group by operation type - legal')\n"
   ]
  },
  {
   "cell_type": "markdown",
   "id": "5c765239-c79b-48e3-a0fe-815d2d1e9591",
   "metadata": {},
   "source": [
    "Из выше представленных диаграмм следует, что незаконные финансовые операции относятся только к двум типам: ‘CASH_OUT’ – снятие, ‘TRANSFER’ – перевод"
   ]
  },
  {
   "cell_type": "markdown",
   "id": "3ed8b3f0-b487-4b60-a3a4-fd47a9b5fb50",
   "metadata": {},
   "source": [
    "Проведем расчет корреляций между признаками"
   ]
  },
  {
   "cell_type": "code",
   "execution_count": 10,
   "id": "a848f128-b787-46a2-ba0c-aaa1d197bb5f",
   "metadata": {
    "tags": []
   },
   "outputs": [
    {
     "data": {
      "text/html": [
       "<div>\n",
       "<style scoped>\n",
       "    .dataframe tbody tr th:only-of-type {\n",
       "        vertical-align: middle;\n",
       "    }\n",
       "\n",
       "    .dataframe tbody tr th {\n",
       "        vertical-align: top;\n",
       "    }\n",
       "\n",
       "    .dataframe thead th {\n",
       "        text-align: right;\n",
       "    }\n",
       "</style>\n",
       "<table border=\"1\" class=\"dataframe\">\n",
       "  <thead>\n",
       "    <tr style=\"text-align: right;\">\n",
       "      <th></th>\n",
       "      <th>name</th>\n",
       "      <th>step</th>\n",
       "      <th>type</th>\n",
       "      <th>amount</th>\n",
       "      <th>oldbalanceOrg</th>\n",
       "      <th>newbalanceOrig</th>\n",
       "      <th>oldbalanceDest</th>\n",
       "      <th>newbalanceDest</th>\n",
       "      <th>isFraud</th>\n",
       "      <th>isFlaggedFraud</th>\n",
       "    </tr>\n",
       "  </thead>\n",
       "  <tbody>\n",
       "    <tr>\n",
       "      <th>0</th>\n",
       "      <td>step</td>\n",
       "      <td>1.000000</td>\n",
       "      <td>-0.000856</td>\n",
       "      <td>0.022373</td>\n",
       "      <td>-0.010058</td>\n",
       "      <td>-0.010299</td>\n",
       "      <td>0.027665</td>\n",
       "      <td>0.025888</td>\n",
       "      <td>0.031578</td>\n",
       "      <td>0.003277</td>\n",
       "    </tr>\n",
       "    <tr>\n",
       "      <th>1</th>\n",
       "      <td>type</td>\n",
       "      <td>-0.000856</td>\n",
       "      <td>1.000000</td>\n",
       "      <td>0.230703</td>\n",
       "      <td>0.297586</td>\n",
       "      <td>0.306623</td>\n",
       "      <td>0.232709</td>\n",
       "      <td>0.237922</td>\n",
       "      <td>0.025433</td>\n",
       "      <td>0.001767</td>\n",
       "    </tr>\n",
       "    <tr>\n",
       "      <th>2</th>\n",
       "      <td>amount</td>\n",
       "      <td>0.022373</td>\n",
       "      <td>0.230703</td>\n",
       "      <td>1.000000</td>\n",
       "      <td>-0.002762</td>\n",
       "      <td>-0.007861</td>\n",
       "      <td>0.294137</td>\n",
       "      <td>0.459304</td>\n",
       "      <td>0.076688</td>\n",
       "      <td>0.012295</td>\n",
       "    </tr>\n",
       "    <tr>\n",
       "      <th>3</th>\n",
       "      <td>oldbalanceOrg</td>\n",
       "      <td>-0.010058</td>\n",
       "      <td>0.297586</td>\n",
       "      <td>-0.002762</td>\n",
       "      <td>1.000000</td>\n",
       "      <td>0.998803</td>\n",
       "      <td>0.066243</td>\n",
       "      <td>0.042029</td>\n",
       "      <td>0.010154</td>\n",
       "      <td>0.003835</td>\n",
       "    </tr>\n",
       "    <tr>\n",
       "      <th>4</th>\n",
       "      <td>newbalanceOrig</td>\n",
       "      <td>-0.010299</td>\n",
       "      <td>0.306623</td>\n",
       "      <td>-0.007861</td>\n",
       "      <td>0.998803</td>\n",
       "      <td>1.000000</td>\n",
       "      <td>0.067812</td>\n",
       "      <td>0.041837</td>\n",
       "      <td>-0.008148</td>\n",
       "      <td>0.003776</td>\n",
       "    </tr>\n",
       "    <tr>\n",
       "      <th>5</th>\n",
       "      <td>oldbalanceDest</td>\n",
       "      <td>0.027665</td>\n",
       "      <td>0.232709</td>\n",
       "      <td>0.294137</td>\n",
       "      <td>0.066243</td>\n",
       "      <td>0.067812</td>\n",
       "      <td>1.000000</td>\n",
       "      <td>0.976569</td>\n",
       "      <td>-0.005885</td>\n",
       "      <td>-0.000513</td>\n",
       "    </tr>\n",
       "    <tr>\n",
       "      <th>6</th>\n",
       "      <td>newbalanceDest</td>\n",
       "      <td>0.025888</td>\n",
       "      <td>0.237922</td>\n",
       "      <td>0.459304</td>\n",
       "      <td>0.042029</td>\n",
       "      <td>0.041837</td>\n",
       "      <td>0.976569</td>\n",
       "      <td>1.000000</td>\n",
       "      <td>0.000535</td>\n",
       "      <td>-0.000529</td>\n",
       "    </tr>\n",
       "    <tr>\n",
       "      <th>7</th>\n",
       "      <td>isFraud</td>\n",
       "      <td>0.031578</td>\n",
       "      <td>0.025433</td>\n",
       "      <td>0.076688</td>\n",
       "      <td>0.010154</td>\n",
       "      <td>-0.008148</td>\n",
       "      <td>-0.005885</td>\n",
       "      <td>0.000535</td>\n",
       "      <td>1.000000</td>\n",
       "      <td>0.044109</td>\n",
       "    </tr>\n",
       "    <tr>\n",
       "      <th>8</th>\n",
       "      <td>isFlaggedFraud</td>\n",
       "      <td>0.003277</td>\n",
       "      <td>0.001767</td>\n",
       "      <td>0.012295</td>\n",
       "      <td>0.003835</td>\n",
       "      <td>0.003776</td>\n",
       "      <td>-0.000513</td>\n",
       "      <td>-0.000529</td>\n",
       "      <td>0.044109</td>\n",
       "      <td>1.000000</td>\n",
       "    </tr>\n",
       "  </tbody>\n",
       "</table>\n",
       "</div>"
      ],
      "text/plain": [
       "             name      step      type    amount  oldbalanceOrg  \\\n",
       "0            step  1.000000 -0.000856  0.022373      -0.010058   \n",
       "1            type -0.000856  1.000000  0.230703       0.297586   \n",
       "2          amount  0.022373  0.230703  1.000000      -0.002762   \n",
       "3   oldbalanceOrg -0.010058  0.297586 -0.002762       1.000000   \n",
       "4  newbalanceOrig -0.010299  0.306623 -0.007861       0.998803   \n",
       "5  oldbalanceDest  0.027665  0.232709  0.294137       0.066243   \n",
       "6  newbalanceDest  0.025888  0.237922  0.459304       0.042029   \n",
       "7         isFraud  0.031578  0.025433  0.076688       0.010154   \n",
       "8  isFlaggedFraud  0.003277  0.001767  0.012295       0.003835   \n",
       "\n",
       "   newbalanceOrig  oldbalanceDest  newbalanceDest   isFraud  isFlaggedFraud  \n",
       "0       -0.010299        0.027665        0.025888  0.031578        0.003277  \n",
       "1        0.306623        0.232709        0.237922  0.025433        0.001767  \n",
       "2       -0.007861        0.294137        0.459304  0.076688        0.012295  \n",
       "3        0.998803        0.066243        0.042029  0.010154        0.003835  \n",
       "4        1.000000        0.067812        0.041837 -0.008148        0.003776  \n",
       "5        0.067812        1.000000        0.976569 -0.005885       -0.000513  \n",
       "6        0.041837        0.976569        1.000000  0.000535       -0.000529  \n",
       "7       -0.008148       -0.005885        0.000535  1.000000        0.044109  \n",
       "8        0.003776       -0.000513       -0.000529  0.044109        1.000000  "
      ]
     },
     "execution_count": 10,
     "metadata": {},
     "output_type": "execute_result"
    }
   ],
   "source": [
    "def createCorrMatrix(df, column_names):\n",
    "    matrix_df = pd.DataFrame()\n",
    "    matrix_df['name'] = column_names\n",
    "    for first in column_names:\n",
    "        column = []\n",
    "        for second in column_names:\n",
    "            corr = df.stat.corr(first, second)\n",
    "            column.append(corr)\n",
    "        matrix_df[first] = column\n",
    "    return matrix_df\n",
    "\n",
    "column_names = list(map(lambda x: x[0], df.dtypes))\n",
    "\n",
    "types = df.groupBy('type').count().toPandas()['type'].tolist()\n",
    "for i_type in range(len(types)):\n",
    "    df = df.withColumn('type', when(df.type == types[i_type], i_type).otherwise(df.type))\n",
    "df = df.withColumn('type', df.type.cast('int'))\n",
    "df = df.withColumn('isFraud', df.isFraud.cast('int'))\n",
    "df = df.withColumn('isFlaggedFraud', df.isFlaggedFraud.cast('int'))\n",
    "for delete_column_names in ['nameOrig', 'nameDest']:\n",
    "    column_names.remove(delete_column_names)\n",
    "createCorrMatrix(df, column_names)"
   ]
  },
  {
   "cell_type": "markdown",
   "id": "388adbe9-86d8-4daf-8d0a-842328977fdb",
   "metadata": {},
   "source": [
    "### Выводы:\n",
    "- В ходе работы был проведен анализ выбранного дата сета - https://www.kaggle.com/datasets/ealaxi/paysim1\n",
    "- Рассчитаны основные статистические показатели признаков\n",
    "- Визуализированы распределения наиболее важных признаков\n",
    "- Расчитаны корреляций между признаками\n",
    "- Все незаконные операции относятся к двум типам: CASH_OUT и TRANSFER"
   ]
  },
  {
   "cell_type": "code",
   "execution_count": null,
   "id": "fc329883-1b09-497e-b223-2ea4760257fa",
   "metadata": {},
   "outputs": [],
   "source": []
  }
 ],
 "metadata": {
  "kernelspec": {
   "display_name": "Python 3 (ipykernel)",
   "language": "python",
   "name": "python3"
  },
  "language_info": {
   "codemirror_mode": {
    "name": "ipython",
    "version": 3
   },
   "file_extension": ".py",
   "mimetype": "text/x-python",
   "name": "python",
   "nbconvert_exporter": "python",
   "pygments_lexer": "ipython3",
   "version": "3.10.9"
  }
 },
 "nbformat": 4,
 "nbformat_minor": 5
}
