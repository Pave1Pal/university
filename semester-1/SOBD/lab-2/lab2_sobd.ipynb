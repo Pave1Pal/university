{
 "cells": [
  {
   "cell_type": "markdown",
   "id": "6053cb31-ce83-4761-b36d-978f2d801c6f",
   "metadata": {},
   "source": [
    "# Лабараторная работа №2\n",
    "- Выполнил: студунт гр.САПР-1.4 Дешевов П.П. \n",
    "- Проверл: канд. физ.-мат. наук, доцент Кравченя П.Д\n",
    "### Цель и задачи: \n",
    "- Познакомиться с базовыми алгоритмами машинного обучения\n",
    "- Познакомиться с реализацией машинного обучения в библиотеке Spark ML\n",
    "- Получить навыки разработки программного обеспечения для анализа данных с использованием pyspark\n"
   ]
  },
  {
   "cell_type": "code",
   "execution_count": 1,
   "id": "7d5096fd-b902-486a-8a96-5a00bbe8207f",
   "metadata": {
    "pycharm": {
     "is_executing": true
    },
    "tags": []
   },
   "outputs": [
    {
     "name": "stdout",
     "output_type": "stream",
     "text": [
      "root\n",
      " |-- step: integer (nullable = true)\n",
      " |-- amount: double (nullable = true)\n",
      " |-- type: string (nullable = true)\n",
      " |-- oldbalanceOrg: double (nullable = true)\n",
      " |-- newbalanceOrig: double (nullable = true)\n",
      " |-- oldbalanceDest: double (nullable = true)\n",
      " |-- newbalanceDest: double (nullable = true)\n",
      " |-- isFraud: integer (nullable = true)\n",
      "\n",
      "+----+--------+--------+-------------+--------------+--------------+--------------+-------+\n",
      "|step|  amount|    type|oldbalanceOrg|newbalanceOrig|oldbalanceDest|newbalanceDest|isFraud|\n",
      "+----+--------+--------+-------------+--------------+--------------+--------------+-------+\n",
      "|   1| 9839.64| PAYMENT|     170136.0|     160296.36|           0.0|           0.0|      0|\n",
      "|   1| 1864.28| PAYMENT|      21249.0|      19384.72|           0.0|           0.0|      0|\n",
      "|   1|   181.0|TRANSFER|        181.0|           0.0|           0.0|           0.0|      1|\n",
      "|   1|   181.0|CASH_OUT|        181.0|           0.0|       21182.0|           0.0|      1|\n",
      "|   1|11668.14| PAYMENT|      41554.0|      29885.86|           0.0|           0.0|      0|\n",
      "|   1| 7817.71| PAYMENT|      53860.0|      46042.29|           0.0|           0.0|      0|\n",
      "|   1| 7107.77| PAYMENT|     183195.0|     176087.23|           0.0|           0.0|      0|\n",
      "|   1| 7861.64| PAYMENT|    176087.23|     168225.59|           0.0|           0.0|      0|\n",
      "|   1| 4024.36| PAYMENT|       2671.0|           0.0|           0.0|           0.0|      0|\n",
      "|   1| 5337.77|   DEBIT|      41720.0|      36382.23|       41898.0|      40348.79|      0|\n",
      "+----+--------+--------+-------------+--------------+--------------+--------------+-------+\n",
      "only showing top 10 rows\n",
      "\n"
     ]
    }
   ],
   "source": [
    "# Импортируем необходимые для работы библиотеки\n",
    "\n",
    "from pyspark.sql.types import *\n",
    "from pyspark.sql.functions import *\n",
    "from pyspark.sql import SparkSession\n",
    "\n",
    "from pyspark.ml import Pipeline\n",
    "from pyspark.ml.feature import VectorAssembler, StringIndexer, VectorIndexer, MinMaxScaler\n",
    "from pyspark.ml.regression import RandomForestRegressor\n",
    "from pyspark.ml.classification import LogisticRegression\n",
    "from pyspark.ml.tuning import ParamGridBuilder, CrossValidator\n",
    "from pyspark.ml.evaluation import RegressionEvaluator, BinaryClassificationEvaluator\n",
    "\n",
    "# Инициализируем Spark сессию \n",
    "spark = SparkSession.builder.master(\"local[*]\").getOrCreate()\n",
    "filename_data = './data/financial_fraud_detection.csv'\n",
    "# Читаем датасет\n",
    "csv = spark.read.csv(filename_data, inferSchema=True, header=True)\n",
    "# Выбираем необходимые для работы признаки\n",
    "csv = csv.select(\n",
    "    'step',\n",
    "    'amount',\n",
    "    'type',\n",
    "    'oldbalanceOrg',\n",
    "    'newbalanceOrig', \n",
    "    'oldbalanceDest', \n",
    "    'newbalanceDest',\n",
    "    'isFraud'\n",
    ")\n",
    "csv.printSchema()\n",
    "csv.show(10)"
   ]
  },
  {
   "cell_type": "code",
   "execution_count": 2,
   "id": "f9598704-7e19-4438-ae63-e623337984ad",
   "metadata": {
    "tags": []
   },
   "outputs": [
    {
     "name": "stdout",
     "output_type": "stream",
     "text": [
      "Training Rows: 4453953  Testing Rows: 1908667\n"
     ]
    }
   ],
   "source": [
    "# Делим датасет на тренеровочный и тестовый\n",
    "splits = csv.randomSplit([0.7, 0.3])\n",
    "train = splits[0]\n",
    "test = splits[1].withColumnRenamed(\"isFraud\", \"trueIsFraud\")\n",
    "train_rows = train.count()\n",
    "test_rows = test.count()\n",
    "print(\"Training Rows:\", train_rows, \" Testing Rows:\", test_rows)"
   ]
  },
  {
   "cell_type": "code",
   "execution_count": 3,
   "id": "556ee4da-71e6-45ba-9728-3564f9789a58",
   "metadata": {
    "tags": []
   },
   "outputs": [],
   "source": [
    "# Производим предобработку данных\n",
    "str_idx = StringIndexer(\n",
    "    inputCols = ['type'], \n",
    "    outputCols = ['typeInx'],\n",
    ")\n",
    "cat_vect = VectorAssembler(\n",
    "    inputCols = ['step','typeInx', 'oldbalanceOrg', 'newbalanceOrig', 'oldbalanceDest', 'newbalanceDest'],\n",
    "    outputCol = 'cat_features'\n",
    ")\n",
    "cat_idx = VectorIndexer(\n",
    "    inputCol = cat_vect.getOutputCol(), \n",
    "    outputCol = 'idx_cat_features',\n",
    "    handleInvalid = \"keep\"\n",
    ")\n",
    "num_vect = VectorAssembler(\n",
    "    inputCols = ['amount'],\n",
    "    outputCol = 'num_features',\n",
    "    handleInvalid = \"keep\"\n",
    ")\n",
    "min_max = MinMaxScaler(\n",
    "    inputCol = num_vect.getOutputCol(),\n",
    "    outputCol = 'norm_features'\n",
    ")\n",
    "feat_vect = VectorAssembler(\n",
    "    inputCols = ['idx_cat_features', 'norm_features'],\n",
    "    outputCol = 'features',\n",
    "    handleInvalid = \"keep\"\n",
    ")\n",
    "# Задаем алгоритм обучения\n",
    "rfr = RandomForestRegressor(\n",
    "    labelCol=\"isFraud\",\n",
    "    featuresCol=\"features\",\n",
    "    numTrees = 10,\n",
    "    maxDepth=2,\n",
    "    maxBins = 181834\n",
    ")\n",
    "# Строим pipeline - стадии через которые будут проходить данные\n",
    "pipeline = Pipeline(\n",
    "    stages = [\n",
    "    str_idx,\n",
    "    cat_vect,\n",
    "    cat_idx,\n",
    "    num_vect,\n",
    "    min_max,\n",
    "    feat_vect,\n",
    "    rfr\n",
    "    ]\n",
    ")\n"
   ]
  },
  {
   "cell_type": "code",
   "execution_count": 4,
   "id": "7a61bf3f-7bdc-441e-b273-0fdd61cbc4fa",
   "metadata": {
    "tags": []
   },
   "outputs": [],
   "source": [
    "# Обучаем на RandomForestRegressor\n",
    "pipeline_model = pipeline.fit(train)"
   ]
  },
  {
   "cell_type": "code",
   "execution_count": 5,
   "id": "e3b5c33c-7550-4cf6-bc19-f6fb184e697b",
   "metadata": {
    "tags": []
   },
   "outputs": [
    {
     "name": "stdout",
     "output_type": "stream",
     "text": [
      "+--------------------+--------------------+-----------+\n",
      "|            features|          prediction|trueIsFraud|\n",
      "+--------------------+--------------------+-----------+\n",
      "|[1.0,1.0,18462.78...| 5.95550172086087E-4|          0|\n",
      "|[1.0,1.0,59708.34...| 5.95550172086087E-4|          0|\n",
      "|[1.0,1.0,1955143....| 5.84098936381198E-4|          0|\n",
      "|[1.0,0.0,181.0,0....|7.289157487937555E-4|          1|\n",
      "|[1.0,1.0,54214.0,...| 5.95550172086087E-4|          0|\n",
      "|[1.0,1.0,101473.0...| 5.95550172086087E-4|          0|\n",
      "|[1.0,1.0,200148.0...| 5.84098936381198E-4|          0|\n",
      "|[1.0,1.0,65254.0,...| 5.95550172086087E-4|          0|\n",
      "|[1.0,4.0,15237.0,...| 5.95550172086087E-4|          0|\n",
      "|[1.0,1.0,10525.28...| 5.95550172086087E-4|          0|\n",
      "+--------------------+--------------------+-----------+\n",
      "only showing top 10 rows\n",
      "\n"
     ]
    }
   ],
   "source": [
    "pred_df = pipeline_model.transform(test)\n",
    "pred_df.select(\"features\", \"prediction\", \"trueIsFraud\").show(10)"
   ]
  },
  {
   "cell_type": "code",
   "execution_count": 6,
   "id": "405cdb9e-783f-444c-a61c-c57b0dad7e5b",
   "metadata": {},
   "outputs": [
    {
     "name": "stdout",
     "output_type": "stream",
     "text": [
      "The RMSE for the random forest regression model is 0.03\n",
      "The MSE for the random forest regression model is 0.00\n",
      "The R2 for the random forest regression model is 0.20\n",
      "The MAE for the random forest regression model is 0.00\n"
     ]
    }
   ],
   "source": [
    "from pyspark.ml.evaluation import RegressionEvaluator\n",
    "regressionEvaluator = RegressionEvaluator(predictionCol=\"prediction\", labelCol=\"trueIsFraud\", metricName=\"rmse\")\n",
    "\n",
    "# Снимаем основные метрики\n",
    "# RMSE\n",
    "rmse = regressionEvaluator.evaluate(pred_df)\n",
    "print(f\"The RMSE for the random forest regression model is {rmse:0.2f}\")\n",
    "# MSE\n",
    "mse = regressionEvaluator.setMetricName(\"mse\").evaluate(pred_df)\n",
    "print(f\"The MSE for the random forest regression model is {mse:0.2f}\")\n",
    "# R2\n",
    "r2 = regressionEvaluator.setMetricName(\"r2\").evaluate(pred_df)\n",
    "print(f\"The R2 for the random forest regression model is {r2:0.2f}\")\n",
    "# MAE\n",
    "mae = regressionEvaluator.setMetricName(\"mae\").evaluate(pred_df)\n",
    "print(f\"The MAE for the random forest regression model is {mae:0.2f}\")"
   ]
  },
  {
   "cell_type": "code",
   "execution_count": 23,
   "id": "1ef3a5e9-b356-4597-afa8-8468a7b6a396",
   "metadata": {
    "tags": []
   },
   "outputs": [],
   "source": [
    "param_grid = ParamGridBuilder().\\\n",
    "    addGrid(rfr.numTrees, [10, 15, 20]).\\\n",
    "    addGrid(rfr.maxDepth, [1, 2, 4]).\\\n",
    "    addGrid(rfr.maxBins , [181834, 362432, 724864]).\\\n",
    "    build()"
   ]
  },
  {
   "cell_type": "code",
   "execution_count": 24,
   "id": "2d02a2bb-27b6-4f83-8be0-9acd5a06823f",
   "metadata": {
    "tags": []
   },
   "outputs": [],
   "source": [
    "cv = CrossValidator(estimator=pipeline, \\\n",
    "                    estimatorParamMaps=param_grid, \\\n",
    "                    evaluator=RegressionEvaluator(\n",
    "                                predictionCol=\"prediction\", \\\n",
    "                                labelCol=\"isFraud\", \\\n",
    "                                metricName=\"rmse\"), \\\n",
    "                    numFolds=2)"
   ]
  },
  {
   "cell_type": "code",
   "execution_count": 25,
   "id": "9b74fd0d-ebf2-4017-864f-76d0d0d56551",
   "metadata": {
    "tags": []
   },
   "outputs": [],
   "source": [
    "cv_model = cv.fit(train)"
   ]
  },
  {
   "cell_type": "code",
   "execution_count": 26,
   "id": "99a1e3b5-868b-4e46-82e7-9c898314c71b",
   "metadata": {
    "tags": []
   },
   "outputs": [],
   "source": [
    "newPrediction = cv_model.transform(test)"
   ]
  },
  {
   "cell_type": "code",
   "execution_count": 27,
   "id": "c121f42b-4770-4a61-93b3-ff7d5c72034c",
   "metadata": {
    "tags": []
   },
   "outputs": [
    {
     "name": "stdout",
     "output_type": "stream",
     "text": [
      "The RMSE for the random forest regression model is 0.00\n",
      "The MSE for the random forest regression model is 0.00\n",
      "The R2 for the random forest regression model is -0.00\n",
      "The MAE for the random forest regression model is 0.00\n"
     ]
    }
   ],
   "source": [
    "# RMSE\n",
    "rmse = regressionEvaluator.evaluate(newPrediction)\n",
    "print(f\"The RMSE for the random forest regression model is {rmse:0.2f}\")\n",
    "# MSE\n",
    "mse = regressionEvaluator.setMetricName(\"mse\").evaluate(newPrediction)\n",
    "print(f\"The MSE for the random forest regression model is {mse:0.2f}\")\n",
    "# R2\n",
    "r2 = regressionEvaluator.setMetricName(\"r2\").evaluate(newPrediction)\n",
    "print(f\"The R2 for the random forest regression model is {r2:0.2f}\")\n",
    "# MAE\n",
    "mae = regressionEvaluator.setMetricName(\"mae\").evaluate(newPrediction)\n",
    "print(f\"The MAE for the random forest regression model is {mae:0.2f}\")"
   ]
  },
  {
   "cell_type": "markdown",
   "id": "55c7a16c-f85a-4c36-b397-da7278a5943c",
   "metadata": {
    "tags": []
   },
   "source": [
    "# Часть 2"
   ]
  },
  {
   "cell_type": "code",
   "execution_count": 7,
   "id": "34c8b22d-6313-44bc-95aa-90de11fa8afd",
   "metadata": {
    "tags": []
   },
   "outputs": [
    {
     "name": "stdout",
     "output_type": "stream",
     "text": [
      "+----+---------+--------+-------------+--------------+--------------+--------------+-------+\n",
      "|step|   amount|    type|oldbalanceOrg|newbalanceOrig|oldbalanceDest|newbalanceDest|isFraud|\n",
      "+----+---------+--------+-------------+--------------+--------------+--------------+-------+\n",
      "|   1|  9839.64| PAYMENT|     170136.0|     160296.36|           0.0|           0.0|      0|\n",
      "|   1|  1864.28| PAYMENT|      21249.0|      19384.72|           0.0|           0.0|      0|\n",
      "|   1|    181.0|TRANSFER|        181.0|           0.0|           0.0|           0.0|      1|\n",
      "|   1|    181.0|CASH_OUT|        181.0|           0.0|       21182.0|           0.0|      1|\n",
      "|   1| 11668.14| PAYMENT|      41554.0|      29885.86|           0.0|           0.0|      0|\n",
      "|   1|  7817.71| PAYMENT|      53860.0|      46042.29|           0.0|           0.0|      0|\n",
      "|   1|  7107.77| PAYMENT|     183195.0|     176087.23|           0.0|           0.0|      0|\n",
      "|   1|  7861.64| PAYMENT|    176087.23|     168225.59|           0.0|           0.0|      0|\n",
      "|   1|  4024.36| PAYMENT|       2671.0|           0.0|           0.0|           0.0|      0|\n",
      "|   1|  5337.77|   DEBIT|      41720.0|      36382.23|       41898.0|      40348.79|      0|\n",
      "|   1|  9644.94|   DEBIT|       4465.0|           0.0|       10845.0|     157982.12|      0|\n",
      "|   1|  3099.97| PAYMENT|      20771.0|      17671.03|           0.0|           0.0|      0|\n",
      "|   1|  2560.74| PAYMENT|       5070.0|       2509.26|           0.0|           0.0|      0|\n",
      "|   1| 11633.76| PAYMENT|      10127.0|           0.0|           0.0|           0.0|      0|\n",
      "|   1|  4098.78| PAYMENT|     503264.0|     499165.22|           0.0|           0.0|      0|\n",
      "|   1|229133.94|CASH_OUT|      15325.0|           0.0|        5083.0|      51513.44|      0|\n",
      "|   1|  1563.82| PAYMENT|        450.0|           0.0|           0.0|           0.0|      0|\n",
      "|   1|  1157.86| PAYMENT|      21156.0|      19998.14|           0.0|           0.0|      0|\n",
      "|   1|   671.64| PAYMENT|      15123.0|      14451.36|           0.0|           0.0|      0|\n",
      "|   1| 215310.3|TRANSFER|        705.0|           0.0|       22425.0|           0.0|      0|\n",
      "+----+---------+--------+-------------+--------------+--------------+--------------+-------+\n",
      "only showing top 20 rows\n",
      "\n"
     ]
    }
   ],
   "source": [
    "csv.show()"
   ]
  },
  {
   "cell_type": "code",
   "execution_count": 8,
   "id": "59fad31c-f99f-43ef-8964-8aa42fc22238",
   "metadata": {
    "tags": []
   },
   "outputs": [],
   "source": [
    "lr = LogisticRegression(\n",
    "    labelCol=\"isFraud\", \n",
    "    featuresCol=\"features\", \n",
    "    maxIter=10,\n",
    "    regParam=0.3\n",
    ")\n",
    "pipeline = Pipeline(\n",
    "    stages = [\n",
    "        str_idx,\n",
    "        cat_vect,\n",
    "        cat_idx,\n",
    "        num_vect,\n",
    "        min_max,\n",
    "        feat_vect,\n",
    "        lr\n",
    "    ]\n",
    ")"
   ]
  },
  {
   "cell_type": "code",
   "execution_count": 9,
   "id": "d7ab7fc6-c84c-4103-b7b3-82c909a4a48c",
   "metadata": {
    "tags": []
   },
   "outputs": [],
   "source": [
    "# Обучаем на логистической регрессии\n",
    "pipeline_model = pipeline.fit(train)"
   ]
  },
  {
   "cell_type": "code",
   "execution_count": 11,
   "id": "e147be33-cc2f-40d2-89d7-43bad2f0d20c",
   "metadata": {
    "tags": []
   },
   "outputs": [
    {
     "name": "stdout",
     "output_type": "stream",
     "text": [
      "+--------------------+----------+-----------+\n",
      "|            features|prediction|trueIsFraud|\n",
      "+--------------------+----------+-----------+\n",
      "|[1.0,1.0,18462.78...|       0.0|          0|\n",
      "|[1.0,1.0,59708.34...|       0.0|          0|\n",
      "|[1.0,1.0,1955143....|       0.0|          0|\n",
      "|[1.0,0.0,181.0,0....|       0.0|          1|\n",
      "|[1.0,1.0,54214.0,...|       0.0|          0|\n",
      "|[1.0,1.0,101473.0...|       0.0|          0|\n",
      "|[1.0,1.0,200148.0...|       0.0|          0|\n",
      "|[1.0,1.0,65254.0,...|       0.0|          0|\n",
      "|[1.0,4.0,15237.0,...|       0.0|          0|\n",
      "|[1.0,1.0,10525.28...|       0.0|          0|\n",
      "|(7,[0,1,6],[1.0,1...|       0.0|          0|\n",
      "|[1.0,1.0,10120.0,...|       0.0|          0|\n",
      "|[1.0,1.0,36616.0,...|       0.0|          0|\n",
      "|[1.0,1.0,15156.0,...|       0.0|          0|\n",
      "|[1.0,1.0,72421.0,...|       0.0|          0|\n",
      "|[1.0,1.0,7522.0,6...|       0.0|          0|\n",
      "|[1.0,1.0,49524.0,...|       0.0|          0|\n",
      "|[1.0,4.0,15573.0,...|       0.0|          0|\n",
      "|[1.0,1.0,1954993....|       0.0|          0|\n",
      "|[1.0,1.0,52594.0,...|       0.0|          0|\n",
      "+--------------------+----------+-----------+\n",
      "only showing top 20 rows\n",
      "\n"
     ]
    }
   ],
   "source": [
    "pred_df = pipeline_model.transform(test)\n",
    "pred_df.select(\"features\", \"prediction\", \"trueIsFraud\").show()"
   ]
  },
  {
   "cell_type": "code",
   "execution_count": 21,
   "id": "c9bd2b86-2ed3-40f0-b62a-e5d720ae9224",
   "metadata": {
    "tags": []
   },
   "outputs": [
    {
     "name": "stdout",
     "output_type": "stream",
     "text": [
      "+------+---------+\n",
      "|metric|    value|\n",
      "+------+---------+\n",
      "|    FP|      0.0|\n",
      "|    TN|1906205.0|\n",
      "|    FN|   2462.0|\n",
      "|Recall|      0.0|\n",
      "+------+---------+\n",
      "\n"
     ]
    }
   ],
   "source": [
    "# Снимаем метрики\n",
    "tp = float(pred_df.filter(\"prediction == 1.0 AND trueIsFraud == 1\").count())\n",
    "fp = float(pred_df.filter(\"prediction == 1.0 AND trueIsFraud == 0\").count())\n",
    "tn = float(pred_df.filter(\"prediction == 0.0 AND trueIsFraud == 0\").count())\n",
    "fn = float(pred_df.filter(\"prediction == 0.0 AND trueIsFraud == 1\").count())\n",
    "re = tp / (tp + fn)\n",
    "metrics = spark.createDataFrame([\n",
    " (\"FP\", fp),\n",
    " (\"TN\", tn),\n",
    " (\"FN\", fn),\n",
    " (\"Recall\", re)\n",
    "], ['metric','value'])\n",
    "metrics.show()"
   ]
  },
  {
   "cell_type": "code",
   "execution_count": 22,
   "id": "6ddebf0c-461c-46f7-8deb-fb0e5efc86d7",
   "metadata": {
    "tags": []
   },
   "outputs": [
    {
     "name": "stdout",
     "output_type": "stream",
     "text": [
      "AUR =  0.832116044295385\n"
     ]
    }
   ],
   "source": [
    "evaluator = BinaryClassificationEvaluator(labelCol=\"trueIsFraud\", rawPredictionCol=\"rawPrediction\", metricName=\"areaUnderROC\")\n",
    "aur = evaluator.evaluate(pred_df)\n",
    "print (\"AUR = \", aur)"
   ]
  },
  {
   "cell_type": "markdown",
   "id": "c8d3186e-fbcb-41d9-a718-4f51e29de6f3",
   "metadata": {},
   "source": [
    "### Выводы:\n",
    "- Были построены две модели на основе выбранного датасета  - https://www.kaggle.com/datasets/ealaxi/paysim1\n",
    "- Построена модель на основе RandomForestRegressor\n",
    "- Постоена модель на основе LogisticRegression"
   ]
  },
  {
   "cell_type": "code",
   "execution_count": null,
   "id": "739934da-7f22-4be2-93df-28a1caf835cb",
   "metadata": {},
   "outputs": [],
   "source": []
  }
 ],
 "metadata": {
  "kernelspec": {
   "display_name": "Python 3 (ipykernel)",
   "language": "python",
   "name": "python3"
  },
  "language_info": {
   "codemirror_mode": {
    "name": "ipython",
    "version": 3
   },
   "file_extension": ".py",
   "mimetype": "text/x-python",
   "name": "python",
   "nbconvert_exporter": "python",
   "pygments_lexer": "ipython3",
   "version": "3.10.9"
  }
 },
 "nbformat": 4,
 "nbformat_minor": 5
}
